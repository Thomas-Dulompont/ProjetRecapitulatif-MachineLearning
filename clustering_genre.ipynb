{
 "cells": [
  {
   "cell_type": "code",
   "execution_count": 8,
   "metadata": {},
   "outputs": [
    {
     "name": "stderr",
     "output_type": "stream",
     "text": [
      "/home/apprenant/miniconda3/envs/potages/lib/python3.9/site-packages/sklearn/cluster/_kmeans.py:870: FutureWarning: The default value of `n_init` will change from 10 to 'auto' in 1.4. Set the value of `n_init` explicitly to suppress the warning\n",
      "  warnings.warn(\n"
     ]
    },
    {
     "name": "stdout",
     "output_type": "stream",
     "text": [
      "genre_cluster\n",
      "0     4068\n",
      "1     3577\n",
      "2     6524\n",
      "3     2304\n",
      "4     5616\n",
      "5     4429\n",
      "6     2448\n",
      "7      766\n",
      "8     5403\n",
      "9     5166\n",
      "10    3357\n",
      "11    5895\n",
      "12    2631\n",
      "13    3182\n",
      "14    4002\n",
      "15    3682\n",
      "16    7370\n",
      "17    6514\n",
      "18    4219\n",
      "19    3652\n",
      "20     819\n",
      "21    3059\n",
      "22     970\n",
      "23    4804\n",
      "24    4867\n",
      "25      25\n",
      "Name: genre, dtype: int64\n"
     ]
    }
   ],
   "source": [
    "import pandas as pd\n",
    "import numpy as np\n",
    "from sklearn.cluster import KMeans\n",
    "from sklearn.preprocessing import StandardScaler\n",
    "\n",
    "# Load the data and drop irrelevant columns\n",
    "data = pd.read_csv(\"analyse2.csv\")\n",
    "X = data.drop(['name', 'artists', 'genre', 'year2', 'year',\"popularity\"], axis=1)\n",
    "\n",
    "# Standardize the data\n",
    "scaler = StandardScaler()\n",
    "X_scaled = scaler.fit_transform(X)\n",
    "\n",
    "# Cluster the data\n",
    "n_clusters = 26\n",
    "kmeans = KMeans(n_clusters=n_clusters, random_state=42)\n",
    "kmeans.fit(X_scaled)\n",
    "labels = kmeans.labels_\n",
    "\n",
    "# Add the cluster labels as a new column to the data\n",
    "data['genre_cluster'] = labels\n",
    "\n",
    "# Print the number of genres in each cluster\n",
    "print(data.groupby(['genre_cluster'])['genre'].count())\n",
    "\n",
    "# Save the clustered data to a new file\n",
    "data.to_csv(\"audio_features_2022_genre2.csv\", index=False)\n"
   ]
  },
  {
   "cell_type": "code",
   "execution_count": 5,
   "metadata": {},
   "outputs": [
    {
     "data": {
      "text/plain": [
       "array([ 6,  4, 18, 21,  8, 23, 24, 12,  9, 25, 17,  7,  5,  2, 11, 15, 20,\n",
       "       13, 14, 10, 22,  1,  0, 16, 19,  3], dtype=int32)"
      ]
     },
     "execution_count": 5,
     "metadata": {},
     "output_type": "execute_result"
    }
   ],
   "source": [
    "data[\"genre_cluster\"].unique()"
   ]
  }
 ],
 "metadata": {
  "kernelspec": {
   "display_name": "Python 3.9.15 ('potages')",
   "language": "python",
   "name": "python3"
  },
  "language_info": {
   "codemirror_mode": {
    "name": "ipython",
    "version": 3
   },
   "file_extension": ".py",
   "mimetype": "text/x-python",
   "name": "python",
   "nbconvert_exporter": "python",
   "pygments_lexer": "ipython3",
   "version": "3.9.15"
  },
  "orig_nbformat": 4,
  "vscode": {
   "interpreter": {
    "hash": "be4f75b9bd78fe2cc5487b34db8fc5f8c44ba010e3355df68b2359faa8da5069"
   }
  }
 },
 "nbformat": 4,
 "nbformat_minor": 2
}
